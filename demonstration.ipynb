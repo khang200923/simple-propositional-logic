{
 "cells": [
  {
   "cell_type": "code",
   "execution_count": 1,
   "metadata": {},
   "outputs": [],
   "source": [
    "from main import *"
   ]
  },
  {
   "cell_type": "code",
   "execution_count": 2,
   "metadata": {},
   "outputs": [
    {
     "name": "stdout",
     "output_type": "stream",
     "text": [
      "(v0) -> v0\n"
     ]
    }
   ],
   "source": [
    "stuff = Imply(Var(0), Var(0))\n",
    "print(stuff)"
   ]
  },
  {
   "cell_type": "code",
   "execution_count": 3,
   "metadata": {},
   "outputs": [
    {
     "name": "stdout",
     "output_type": "stream",
     "text": [
      "(v97) -> v97\n"
     ]
    }
   ],
   "source": [
    "stuff = p(\">aa\")\n",
    "print(stuff)"
   ]
  },
  {
   "cell_type": "code",
   "execution_count": 4,
   "metadata": {},
   "outputs": [
    {
     "name": "stdout",
     "output_type": "stream",
     "text": [
      "True\n"
     ]
    }
   ],
   "source": [
    "proof = Proof(\n",
    "    goal=stuff,\n",
    "    inferences=[\n",
    "        AxiomI(0, (p(\"a\"), p(\">aa\"), p(\"n\"))),\n",
    "        AxiomI(1, (p(\"a\"), p(\">aa\"), p(\"a\"))),\n",
    "        ModI(1, 0),\n",
    "        AxiomI(0, (p(\"a\"), p(\"a\"), p(\"a\"))),\n",
    "        ModI(2, 3)\n",
    "    ]\n",
    ")\n",
    "print(proof.verify())"
   ]
  },
  {
   "cell_type": "code",
   "execution_count": null,
   "metadata": {},
   "outputs": [],
   "source": []
  }
 ],
 "metadata": {
  "kernelspec": {
   "display_name": "Python 3",
   "language": "python",
   "name": "python3"
  },
  "language_info": {
   "codemirror_mode": {
    "name": "ipython",
    "version": 3
   },
   "file_extension": ".py",
   "mimetype": "text/x-python",
   "name": "python",
   "nbconvert_exporter": "python",
   "pygments_lexer": "ipython3",
   "version": "3.11.1"
  }
 },
 "nbformat": 4,
 "nbformat_minor": 2
}
