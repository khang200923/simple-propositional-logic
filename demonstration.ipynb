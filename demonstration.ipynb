{
 "cells": [
  {
   "cell_type": "code",
   "execution_count": 1,
   "metadata": {},
   "outputs": [],
   "source": [
    "from main import *"
   ]
  },
  {
   "cell_type": "code",
   "execution_count": 2,
   "metadata": {},
   "outputs": [
    {
     "name": "stdout",
     "output_type": "stream",
     "text": [
      "(v0) -> v0\n"
     ]
    }
   ],
   "source": [
    "stuff = Imply(Var(0), Var(0))\n",
    "print(stuff)"
   ]
  },
  {
   "cell_type": "code",
   "execution_count": 3,
   "metadata": {},
   "outputs": [
    {
     "name": "stdout",
     "output_type": "stream",
     "text": [
      "(a) -> a\n"
     ]
    }
   ],
   "source": [
    "stuff = p(\">aa\")\n",
    "print(stuff)"
   ]
  },
  {
   "cell_type": "code",
   "execution_count": 4,
   "metadata": {},
   "outputs": [
    {
     "name": "stdout",
     "output_type": "stream",
     "text": [
      "Goal is (a) -> a\n",
      "Proof is:\n",
      "0: (a) -> ((a) -> a) -> a (Axiom 0 (A) -> (B) -> A; terms A = a, B = (a) -> a, C = n)\n",
      "1: ((a) -> ((a) -> a) -> a) -> ((a) -> (a) -> a) -> (a) -> a (Axiom 1 ((A) -> (B) -> C) -> ((A) -> B) -> (A) -> C; terms A = a, B = (a) -> a, C = a)\n",
      "2: ((a) -> (a) -> a) -> (a) -> a (Inferred from 1 using 0)\n",
      "3: (a) -> (a) -> a (Axiom 0 (A) -> (B) -> A; terms A = a, B = a, C = a)\n",
      "4: (a) -> a (Inferred from 2 using 3)\n",
      "Q.E.D.\n",
      "True\n"
     ]
    }
   ],
   "source": [
    "proof = Proof(\n",
    "    goal=stuff,\n",
    "    inferences=[\n",
    "        AxiomI(0, (p(\"a\"), p(\">aa\"), p(\"n\"))),\n",
    "        AxiomI(1, (p(\"a\"), p(\">aa\"), p(\"a\"))),\n",
    "        ModI(1, 0),\n",
    "        AxiomI(0, (p(\"a\"), p(\"a\"), p(\"n\"))),\n",
    "        ModI(2, 3)\n",
    "    ]\n",
    ")\n",
    "print(proof)\n",
    "print(proof.verify())"
   ]
  },
  {
   "cell_type": "code",
   "execution_count": null,
   "metadata": {},
   "outputs": [],
   "source": []
  }
 ],
 "metadata": {
  "kernelspec": {
   "display_name": "Python 3",
   "language": "python",
   "name": "python3"
  },
  "language_info": {
   "codemirror_mode": {
    "name": "ipython",
    "version": 3
   },
   "file_extension": ".py",
   "mimetype": "text/x-python",
   "name": "python",
   "nbconvert_exporter": "python",
   "pygments_lexer": "ipython3",
   "version": "3.11.1"
  }
 },
 "nbformat": 4,
 "nbformat_minor": 2
}
